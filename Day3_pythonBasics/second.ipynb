{
 "cells": [
  {
   "cell_type": "code",
   "execution_count": 1,
   "id": "7274a584-b3ee-4ba1-9848-9eb59c70357f",
   "metadata": {},
   "outputs": [
    {
     "name": "stdout",
     "output_type": "stream",
     "text": [
      "Bill is  84050\n"
     ]
    }
   ],
   "source": [
    "#electricity bill\n",
    "unit = 3550\n",
    "if unit <= 200:\n",
    "    print('Bill is 0')\n",
    "elif unit > 200 and unit <= 500:\n",
    "    unit1 = unit - 200\n",
    "    amount = unit1 * 8\n",
    "    print('Bill is ',amount)\n",
    "elif unit > 500 and unit <= 1000:\n",
    "    unit1 = unit - 200\n",
    "    unit2 = unit1 - 500\n",
    "    amount = unit1 * 8 + unit2 * 11  \n",
    "    print('Bill is ',amount)\n",
    "elif unit > 1000:\n",
    "    unit1 = unit - 200\n",
    "    unit2 = unit1 - 500\n",
    "    unit3 = unit2 - 1000\n",
    "    amount = unit1 * 8 + unit2 * 11 + unit3 * 14 \n",
    "    print('Bill is ',amount)\n",
    "else:\n",
    "    print('Enter valid unit')"
   ]
  },
  {
   "cell_type": "code",
   "execution_count": 10,
   "id": "207b2f40-5d13-4042-ab7f-675d851f704c",
   "metadata": {},
   "outputs": [
    {
     "name": "stdout",
     "output_type": "stream",
     "text": [
      "count of string is= 12\n",
      "upper case= HELLO ARPITA\n",
      "lower case= hello arpita\n",
      "My String None\n"
     ]
    }
   ],
   "source": [
    "#count of my string using function\n",
    "\n",
    "def countcharacter(string):\n",
    "    print(\"count of string is=\",len(string))\n",
    "    print(\"upper case=\",string.upper())\n",
    "    print(\"lower case=\",string.lower())\n",
    "\n",
    "string='Hello Arpita'\n",
    "print('My String',countcharacter(string))\n"
   ]
  },
  {
   "cell_type": "code",
   "execution_count": 18,
   "id": "b3a78d16-589c-4d49-a84c-56dbfa1d99b2",
   "metadata": {},
   "outputs": [
    {
     "name": "stdin",
     "output_type": "stream",
     "text": [
      "Enter a string:  arpita\n"
     ]
    },
    {
     "name": "stdout",
     "output_type": "stream",
     "text": [
      "Uppercase: ARPITA\n"
     ]
    }
   ],
   "source": [
    "text = input(\"Enter a string: \")\n",
    "uppercase_text = \"\"\n",
    "\n",
    "for char in text:\n",
    "    if 'a' <= char <= 'z': \n",
    "        uppercase_text += chr(ord(char) - 32) \n",
    "    else:\n",
    "        uppercase_text += char \n",
    "\n",
    "print(\"Uppercase:\", uppercase_text)\n",
    "\n",
    "\n",
    "    \n",
    "    \n",
    "    "
   ]
  },
  {
   "cell_type": "code",
   "execution_count": 1,
   "id": "4b32ab76-9f91-4b6f-8dd5-9501ed8a7439",
   "metadata": {},
   "outputs": [
    {
     "name": "stdin",
     "output_type": "stream",
     "text": [
      "Enter a number:  2\n"
     ]
    },
    {
     "name": "stdout",
     "output_type": "stream",
     "text": [
      "2 is a prime number\n"
     ]
    }
   ],
   "source": [
    "def is_prime(n):\n",
    "    if n < 2:\n",
    "        return False  \n",
    "    \n",
    "    i = 2  \n",
    "    while i * i <= n: \n",
    "        if n % i == 0:\n",
    "            return False \n",
    "        i += 1\n",
    "    else:\n",
    "        return True\n",
    "\n",
    "text = int(input(\"Enter a number: \"))\n",
    "if is_prime(text):\n",
    "    print(f\"{text} is a prime number\")\n",
    "else:\n",
    "    print(f\"{text} is not a prime number\")\n"
   ]
  },
  {
   "cell_type": "code",
   "execution_count": 2,
   "id": "770b5342-fce5-43e9-8f65-05778a78e4aa",
   "metadata": {},
   "outputs": [
    {
     "name": "stdout",
     "output_type": "stream",
     "text": [
      "Total interest earned in 1 year on ₹6500000: ₹1045000.00\n"
     ]
    }
   ],
   "source": [
    "def calculate_fd_interest(amount, years=1):\n",
    "    \"\"\"Calculate interest earned on Fixed Deposit (FD) based on amount slabs.\"\"\"\n",
    "    \n",
    "    first_limit = 10_00_000  # ₹10 Lakh - 10% Interest\n",
    "    second_limit = 15_00_000  # ₹15 Lakh - 15% Interest\n",
    "    remaining_limit = max(0, amount - (first_limit + second_limit))  # Remaining Amount - 18% Interest\n",
    "\n",
    "    # Interest Calculation\n",
    "    interest = (first_limit * 0.10 + second_limit * 0.15 + remaining_limit * 0.18) * years\n",
    "\n",
    "    return interest\n",
    "\n",
    "# Example: FD Amount and Years\n",
    "fd_amount = 65_00_000  # ₹65 Lakh\n",
    "interest_earned = calculate_fd_interest(fd_amount, 1)  # 1 Year\n",
    "\n",
    "# Display the result\n",
    "print(f\"Total interest earned in 1 year on ₹{fd_amount}: ₹{interest_earned:.2f}\")\n"
   ]
  },
  {
   "cell_type": "code",
   "execution_count": 3,
   "id": "6be3f3b5-b23b-497b-9f11-f56b9897a929",
   "metadata": {},
   "outputs": [
    {
     "name": "stdout",
     "output_type": "stream",
     "text": [
      "Salary: ₹4500000, Savings: ₹150000 → Tax: ₹985000.00\n",
      "Salary: ₹6200000, Savings: ₹350000 → Tax: ₹1480000.00\n"
     ]
    }
   ],
   "source": [
    "def calculate_tax(salary, savings):\n",
    "    \"\"\"Calculate income tax after deductions.\"\"\"\n",
    "    \n",
    "    # Maximum deductible savings is ₹2,00,000\n",
    "    deductible_savings = min(savings, 200000)\n",
    "    taxable_salary = salary - deductible_savings  # Salary after deductions\n",
    "    \n",
    "    # Tax calculation based on slabs\n",
    "    if taxable_salary <= 1000000:\n",
    "        tax = taxable_salary * 0.10  # 10% tax\n",
    "    elif taxable_salary <= 2200000:\n",
    "        tax = (1000000 * 0.10) + (taxable_salary - 1000000) * 0.20  # 20% tax for income above ₹10L\n",
    "    else:\n",
    "        tax = (1000000 * 0.10) + (1200000 * 0.20) + (taxable_salary - 2200000) * 0.30  # 30% tax for income above ₹22L\n",
    "    \n",
    "    return tax\n",
    "\n",
    "# Example inputs\n",
    "salaries_savings = [(4500000, 150000), (6200000, 350000)]\n",
    "\n",
    "# Calculate and display tax for each salary\n",
    "for salary, savings in salaries_savings:\n",
    "    tax = calculate_tax(salary, savings)\n",
    "    print(f\"Salary: ₹{salary}, Savings: ₹{savings} → Tax: ₹{tax:.2f}\")\n"
   ]
  },
  {
   "cell_type": "code",
   "execution_count": null,
   "id": "a536ed56-309a-4f50-8102-91e4022835a8",
   "metadata": {},
   "outputs": [],
   "source": []
  }
 ],
 "metadata": {
  "kernelspec": {
   "display_name": "Python 3 (ipykernel)",
   "language": "python",
   "name": "python3"
  },
  "language_info": {
   "codemirror_mode": {
    "name": "ipython",
    "version": 3
   },
   "file_extension": ".py",
   "mimetype": "text/x-python",
   "name": "python",
   "nbconvert_exporter": "python",
   "pygments_lexer": "ipython3",
   "version": "3.12.7"
  }
 },
 "nbformat": 4,
 "nbformat_minor": 5
}
