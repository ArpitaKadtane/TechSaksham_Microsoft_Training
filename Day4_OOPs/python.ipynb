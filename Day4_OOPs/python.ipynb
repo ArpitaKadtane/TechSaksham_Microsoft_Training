{
 "cells": [
  {
   "cell_type": "code",
   "execution_count": 1,
   "id": "e3b308cc-cc7e-475e-8f8e-fd7b025bc54d",
   "metadata": {},
   "outputs": [
    {
     "data": {
      "text/plain": [
       "'Hello , welcome to Walchand Instittue of technology'"
      ]
     },
     "execution_count": 1,
     "metadata": {},
     "output_type": "execute_result"
    }
   ],
   "source": [
    "\"Hello , welcome to Walchand Instittue of technology\""
   ]
  },
  {
   "cell_type": "code",
   "execution_count": 2,
   "id": "885e01be-1cd3-4840-a2f4-a20eb8acfddc",
   "metadata": {},
   "outputs": [
    {
     "name": "stdout",
     "output_type": "stream",
     "text": [
      "Hello\n",
      "Arpita kadtane\n"
     ]
    }
   ],
   "source": [
    "print('Hello')\n",
    "print('Arpita kadtane')"
   ]
  },
  {
   "cell_type": "code",
   "execution_count": 3,
   "id": "e5a05e65-47e1-44d7-ad62-7dbd8afd569f",
   "metadata": {},
   "outputs": [
    {
     "data": {
      "text/plain": [
       "17"
      ]
     },
     "execution_count": 3,
     "metadata": {},
     "output_type": "execute_result"
    }
   ],
   "source": [
    "len('Hello I am Arpita')"
   ]
  },
  {
   "cell_type": "code",
   "execution_count": 4,
   "id": "0816fb47-1758-4edc-8426-89bd6d9b151c",
   "metadata": {},
   "outputs": [
    {
     "data": {
      "text/plain": [
       "'Hello my name is arpita kadtane'"
      ]
     },
     "execution_count": 4,
     "metadata": {},
     "output_type": "execute_result"
    }
   ],
   "source": [
    "#find the length of string\n",
    "Str= \"Hello my name is arpita kadtane\"\n",
    "Str"
   ]
  },
  {
   "cell_type": "code",
   "execution_count": 5,
   "id": "a393795b-ca5f-4d6f-9a88-dd3075a9c3c8",
   "metadata": {},
   "outputs": [
    {
     "data": {
      "text/plain": [
       "31"
      ]
     },
     "execution_count": 5,
     "metadata": {},
     "output_type": "execute_result"
    }
   ],
   "source": [
    "len(Str)"
   ]
  },
  {
   "cell_type": "code",
   "execution_count": 7,
   "id": "96619d47-b539-47cf-8a52-b1a37142cd25",
   "metadata": {},
   "outputs": [
    {
     "data": {
      "text/plain": [
       "'o'"
      ]
     },
     "execution_count": 7,
     "metadata": {},
     "output_type": "execute_result"
    }
   ],
   "source": [
    "Str[4]"
   ]
  },
  {
   "cell_type": "code",
   "execution_count": 8,
   "id": "3fe75108-8c4c-48d6-a41c-412859075138",
   "metadata": {},
   "outputs": [
    {
     "data": {
      "text/plain": [
       "' '"
      ]
     },
     "execution_count": 8,
     "metadata": {},
     "output_type": "execute_result"
    }
   ],
   "source": [
    "Str[8]"
   ]
  },
  {
   "cell_type": "code",
   "execution_count": 9,
   "id": "7397deba-a3ef-41a7-8cb5-a655b362de5f",
   "metadata": {},
   "outputs": [
    {
     "data": {
      "text/plain": [
       "'ello my name is arpita kadtane'"
      ]
     },
     "execution_count": 9,
     "metadata": {},
     "output_type": "execute_result"
    }
   ],
   "source": [
    "Str[1:]"
   ]
  },
  {
   "cell_type": "code",
   "execution_count": 10,
   "id": "0cbfffc5-73a1-4261-982b-94abe94508fa",
   "metadata": {},
   "outputs": [
    {
     "data": {
      "text/plain": [
       "' my name is arpita kadtane'"
      ]
     },
     "execution_count": 10,
     "metadata": {},
     "output_type": "execute_result"
    }
   ],
   "source": [
    "Str[5:]"
   ]
  },
  {
   "cell_type": "code",
   "execution_count": 12,
   "id": "db970977-4fea-4d92-8aac-a63a66e8e5ba",
   "metadata": {},
   "outputs": [
    {
     "data": {
      "text/plain": [
       "'Hello my name is arpita kadtane I am Pursuing Computer Science Engineering at Walchand Institute of Technology'"
      ]
     },
     "execution_count": 12,
     "metadata": {},
     "output_type": "execute_result"
    }
   ],
   "source": [
    "#concatinating string\n",
    "Str + ' I am Pursuing Computer Science Engineering at Walchand Institute of Technology'"
   ]
  },
  {
   "cell_type": "code",
   "execution_count": 13,
   "id": "f3397810-ecc8-47e9-b80b-3c4be6e0e87b",
   "metadata": {},
   "outputs": [
    {
     "data": {
      "text/plain": [
       "'enatdak atipra si eman ym olleH'"
      ]
     },
     "execution_count": 13,
     "metadata": {},
     "output_type": "execute_result"
    }
   ],
   "source": [
    "Str[::-1]"
   ]
  },
  {
   "cell_type": "code",
   "execution_count": 14,
   "id": "2ba06899-f43a-485c-86c4-37561a76a48b",
   "metadata": {},
   "outputs": [
    {
     "data": {
      "text/plain": [
       "'Hello my name is arpita kadta'"
      ]
     },
     "execution_count": 14,
     "metadata": {},
     "output_type": "execute_result"
    }
   ],
   "source": [
    "Str[:-2]"
   ]
  },
  {
   "cell_type": "code",
   "execution_count": 15,
   "id": "bcdad972-eb66-4447-a117-887cd5e0ea6b",
   "metadata": {},
   "outputs": [
    {
     "data": {
      "text/plain": [
       "'HELLO MY NAME IS ARPITA KADTANE'"
      ]
     },
     "execution_count": 15,
     "metadata": {},
     "output_type": "execute_result"
    }
   ],
   "source": [
    "#Upper case\n",
    "Str.upper()"
   ]
  },
  {
   "cell_type": "code",
   "execution_count": 16,
   "id": "279c86bd-ae4c-4cc4-82c7-788c009649ed",
   "metadata": {},
   "outputs": [
    {
     "data": {
      "text/plain": [
       "'hello my name is arpita kadtane'"
      ]
     },
     "execution_count": 16,
     "metadata": {},
     "output_type": "execute_result"
    }
   ],
   "source": [
    "#lower case\n",
    "Str.lower()"
   ]
  },
  {
   "cell_type": "code",
   "execution_count": 18,
   "id": "48ab6308-6fbb-422a-aeb0-daca772a6bbc",
   "metadata": {},
   "outputs": [
    {
     "data": {
      "text/plain": [
       "['Hello', 'my', 'name', 'is', 'arpita', 'kadtane']"
      ]
     },
     "execution_count": 18,
     "metadata": {},
     "output_type": "execute_result"
    }
   ],
   "source": [
    "#split method whole sentences in to word\n",
    "Str.split()"
   ]
  },
  {
   "cell_type": "code",
   "execution_count": 21,
   "id": "1fc2ec20-dc7e-46c1-85df-834cd728bea4",
   "metadata": {},
   "outputs": [
    {
     "name": "stdout",
     "output_type": "stream",
     "text": [
      "Enter name here Arpita then also Kadtane\n"
     ]
    }
   ],
   "source": [
    "print('Enter name here {} then also {}' .format ('Arpita','Kadtane'))"
   ]
  },
  {
   "cell_type": "code",
   "execution_count": 25,
   "id": "08ee2ce2-90c4-4d89-a128-769499bc74f5",
   "metadata": {},
   "outputs": [
    {
     "name": "stdout",
     "output_type": "stream",
     "text": [
      "First Object: 1, Second Object: Two. Third Object: 30.2\n"
     ]
    }
   ],
   "source": [
    "#inserted objects can be assigned keywords\n",
    "print('First Object: {a}, Second Object: {b}. Third Object: {c}'.format(a=1,b='Two',c=30.2))"
   ]
  },
  {
   "cell_type": "code",
   "execution_count": 26,
   "id": "63897dcd-05f0-4271-a9ac-e5f37962e5d8",
   "metadata": {},
   "outputs": [
    {
     "data": {
      "text/plain": [
       "[1, 2, 3, 4, 5, 6]"
      ]
     },
     "execution_count": 26,
     "metadata": {},
     "output_type": "execute_result"
    }
   ],
   "source": [
    "#Assign a list to an variable named my_list\n",
    "my_list=[1,2,3,4,5,6]\n",
    "my_list"
   ]
  },
  {
   "cell_type": "code",
   "execution_count": 30,
   "id": "b2422fed-3d57-45f1-9994-1788c3170f4f",
   "metadata": {},
   "outputs": [],
   "source": [
    "my_list.append(7)"
   ]
  },
  {
   "cell_type": "code",
   "execution_count": 31,
   "id": "3c0fd275-4ad2-4ba8-be9b-516b6205db58",
   "metadata": {},
   "outputs": [
    {
     "data": {
      "text/plain": [
       "[1, 2, 3, 4, 5, 6, 7]"
      ]
     },
     "execution_count": 31,
     "metadata": {},
     "output_type": "execute_result"
    }
   ],
   "source": [
    "my_list"
   ]
  },
  {
   "cell_type": "code",
   "execution_count": 32,
   "id": "8446acce-8e46-4303-bf92-665013857a2d",
   "metadata": {},
   "outputs": [
    {
     "data": {
      "text/plain": [
       "['Edunet', 3, 10, 2, 'A', 32, 3]"
      ]
     },
     "execution_count": 32,
     "metadata": {},
     "output_type": "execute_result"
    }
   ],
   "source": [
    "my_list=['Edunet',3,10,2,'A',32,3]\n",
    "my_list"
   ]
  },
  {
   "cell_type": "code",
   "execution_count": 33,
   "id": "3dc60b42-bece-4e7c-8028-5e5b330f2bc6",
   "metadata": {},
   "outputs": [
    {
     "data": {
      "text/plain": [
       "7"
      ]
     },
     "execution_count": 33,
     "metadata": {},
     "output_type": "execute_result"
    }
   ],
   "source": [
    "len(my_list)"
   ]
  },
  {
   "cell_type": "code",
   "execution_count": 36,
   "id": "43d5b906-d918-4f26-8a0a-a73d129e2414",
   "metadata": {},
   "outputs": [
    {
     "data": {
      "text/plain": [
       "['Edunet', 3, 10, 2, 'A', 32, 3]"
      ]
     },
     "execution_count": 36,
     "metadata": {},
     "output_type": "execute_result"
    }
   ],
   "source": [
    "my_list"
   ]
  },
  {
   "cell_type": "code",
   "execution_count": 37,
   "id": "5fad187b-dbad-4252-bd86-f5a0152540b5",
   "metadata": {},
   "outputs": [
    {
     "data": {
      "text/plain": [
       "3"
      ]
     },
     "execution_count": 37,
     "metadata": {},
     "output_type": "execute_result"
    }
   ],
   "source": [
    "my_list[1]"
   ]
  },
  {
   "cell_type": "code",
   "execution_count": 38,
   "id": "0b6e3fa4-61a3-4bea-a9db-98bb88a66537",
   "metadata": {},
   "outputs": [
    {
     "data": {
      "text/plain": [
       "32"
      ]
     },
     "execution_count": 38,
     "metadata": {},
     "output_type": "execute_result"
    }
   ],
   "source": [
    "my_list[5]"
   ]
  },
  {
   "cell_type": "code",
   "execution_count": 40,
   "id": "e41fc94b-7dd5-4f55-aaa2-f036ebee1092",
   "metadata": {},
   "outputs": [
    {
     "data": {
      "text/plain": [
       "[3, 10, 2, 'A', 32, 3]"
      ]
     },
     "execution_count": 40,
     "metadata": {},
     "output_type": "execute_result"
    }
   ],
   "source": [
    "my_list[1:]"
   ]
  },
  {
   "cell_type": "code",
   "execution_count": 43,
   "id": "45c8cdd5-5dfd-40f4-a047-039f23d63075",
   "metadata": {},
   "outputs": [
    {
     "data": {
      "text/plain": [
       "['Edunet', 3, 10, 2, 'A', 32, 3, 'new item', 'second item', 'third item']"
      ]
     },
     "execution_count": 43,
     "metadata": {},
     "output_type": "execute_result"
    }
   ],
   "source": [
    "my_list +['new item','second item','third item']"
   ]
  },
  {
   "cell_type": "code",
   "execution_count": 46,
   "id": "3c30fe74-879b-4b2c-845f-38fcb2e3f4ba",
   "metadata": {},
   "outputs": [],
   "source": [
    "my_list.extend('A')"
   ]
  },
  {
   "cell_type": "code",
   "execution_count": 47,
   "id": "c618cc94-c4d7-4717-a7d3-33ec82aad79f",
   "metadata": {},
   "outputs": [
    {
     "data": {
      "text/plain": [
       "['Edunet', 3, 10, 2, 'A', 32, 3, 'A']"
      ]
     },
     "execution_count": 47,
     "metadata": {},
     "output_type": "execute_result"
    }
   ],
   "source": [
    "my_list"
   ]
  },
  {
   "cell_type": "code",
   "execution_count": 48,
   "id": "c719604b-274a-49a1-8370-0ba8226018de",
   "metadata": {},
   "outputs": [],
   "source": [
    "#Reassign\n",
    "my_list=my_list+['Add new item at last']"
   ]
  },
  {
   "cell_type": "code",
   "execution_count": 49,
   "id": "564345e2-b238-48ee-beda-0dbfabfaf584",
   "metadata": {},
   "outputs": [
    {
     "data": {
      "text/plain": [
       "['Edunet', 3, 10, 2, 'A', 32, 3, 'A', 'Add new item at last']"
      ]
     },
     "execution_count": 49,
     "metadata": {},
     "output_type": "execute_result"
    }
   ],
   "source": [
    "my_list"
   ]
  },
  {
   "cell_type": "code",
   "execution_count": 50,
   "id": "d40828a7-f24e-4689-8323-51e72dd2861d",
   "metadata": {},
   "outputs": [
    {
     "data": {
      "text/plain": [
       "'Add new item at last'"
      ]
     },
     "execution_count": 50,
     "metadata": {},
     "output_type": "execute_result"
    }
   ],
   "source": [
    "my_list.pop()"
   ]
  },
  {
   "cell_type": "code",
   "execution_count": 51,
   "id": "c154ad63-52e8-4d2c-8940-ec7e6c256bbd",
   "metadata": {},
   "outputs": [
    {
     "data": {
      "text/plain": [
       "['Edunet', 3, 10, 2, 'A', 32, 3, 'A']"
      ]
     },
     "execution_count": 51,
     "metadata": {},
     "output_type": "execute_result"
    }
   ],
   "source": [
    "my_list"
   ]
  },
  {
   "cell_type": "code",
   "execution_count": 52,
   "id": "8baff4e3-846e-4071-9a73-54d96ffc5ec4",
   "metadata": {},
   "outputs": [],
   "source": [
    "my_list.reverse()"
   ]
  },
  {
   "cell_type": "code",
   "execution_count": 54,
   "id": "198edbdd-d9ad-4be0-af6f-36a3b3ec1883",
   "metadata": {},
   "outputs": [
    {
     "data": {
      "text/plain": [
       "['A', 3, 32, 'A', 2, 10, 3, 'Edunet']"
      ]
     },
     "execution_count": 54,
     "metadata": {},
     "output_type": "execute_result"
    }
   ],
   "source": [
    "my_list\n"
   ]
  },
  {
   "cell_type": "code",
   "execution_count": 59,
   "id": "2b874dfc-2e37-454e-84da-a804f7f03804",
   "metadata": {},
   "outputs": [],
   "source": [
    "my_list.remove(3)"
   ]
  },
  {
   "cell_type": "code",
   "execution_count": 60,
   "id": "29118fbc-2a61-49e9-8661-3c63ae6a234e",
   "metadata": {},
   "outputs": [
    {
     "data": {
      "text/plain": [
       "['A', 32, 'A', 2, 10, 3, 'Edunet']"
      ]
     },
     "execution_count": 60,
     "metadata": {},
     "output_type": "execute_result"
    }
   ],
   "source": [
    "my_list"
   ]
  },
  {
   "cell_type": "code",
   "execution_count": 61,
   "id": "04b045b4-361e-49ab-8f54-8134fcf4833e",
   "metadata": {},
   "outputs": [],
   "source": [
    "first=['good morning']\n",
    "first.sort()"
   ]
  },
  {
   "cell_type": "code",
   "execution_count": 62,
   "id": "ff0333ee-ee6f-4aee-a7c7-4fde5e3b775d",
   "metadata": {},
   "outputs": [
    {
     "data": {
      "text/plain": [
       "['good morning']"
      ]
     },
     "execution_count": 62,
     "metadata": {},
     "output_type": "execute_result"
    }
   ],
   "source": [
    "first"
   ]
  },
  {
   "cell_type": "code",
   "execution_count": 68,
   "id": "65f9c397-6906-4a6f-84c4-9bccb309bc93",
   "metadata": {},
   "outputs": [
    {
     "data": {
      "text/plain": [
       "{'Arpita': '1', 'Sanika': '2', 'Ankita': '3', 'Priyanka': '4'}"
      ]
     },
     "execution_count": 68,
     "metadata": {},
     "output_type": "execute_result"
    }
   ],
   "source": [
    "#make a dictionary with {} and : to signify a key and value\n",
    "dict= {'Arpita':'1', 'Sanika':'2', 'Ankita':'3','Priyanka':'4'}\n",
    "dict"
   ]
  },
  {
   "cell_type": "code",
   "execution_count": 69,
   "id": "5e3374aa-281b-4aa8-b2ed-1a6a48e582ae",
   "metadata": {},
   "outputs": [
    {
     "data": {
      "text/plain": [
       "{'key1': 123, 'key2': [1, 2, 3], 'key3': ['edu', 'net', 'foundation']}"
      ]
     },
     "execution_count": 69,
     "metadata": {},
     "output_type": "execute_result"
    }
   ],
   "source": [
    "my_dict={'key1':123,'key2':[1,2,3], 'key3':['edu','net','foundation']}\n",
    "my_dict"
   ]
  },
  {
   "cell_type": "code",
   "execution_count": 70,
   "id": "24b30c7d-9d30-4c67-9180-0b2f1e135bfc",
   "metadata": {},
   "outputs": [
    {
     "data": {
      "text/plain": [
       "[1, 2, 3]"
      ]
     },
     "execution_count": 70,
     "metadata": {},
     "output_type": "execute_result"
    }
   ],
   "source": [
    "my_dict.get('key2')"
   ]
  },
  {
   "cell_type": "code",
   "execution_count": 73,
   "id": "91c84805-2a0c-4153-a599-93bccf1d32e4",
   "metadata": {},
   "outputs": [
    {
     "data": {
      "text/plain": [
       "2"
      ]
     },
     "execution_count": 73,
     "metadata": {},
     "output_type": "execute_result"
    }
   ],
   "source": [
    "my_dict.get('key2')[-2]"
   ]
  },
  {
   "cell_type": "code",
   "execution_count": 74,
   "id": "30f8b2d9-8149-4d19-b15d-9db2e8ef658d",
   "metadata": {},
   "outputs": [
    {
     "data": {
      "text/plain": [
       "'EDU'"
      ]
     },
     "execution_count": 74,
     "metadata": {},
     "output_type": "execute_result"
    }
   ],
   "source": [
    "#can then even call methods on that value\n",
    "my_dict['key3'][0].upper()"
   ]
  },
  {
   "cell_type": "code",
   "execution_count": 75,
   "id": "6bab5022-d0ea-4313-8034-bca71983b0a2",
   "metadata": {},
   "outputs": [
    {
     "data": {
      "text/plain": [
       "123"
      ]
     },
     "execution_count": 75,
     "metadata": {},
     "output_type": "execute_result"
    }
   ],
   "source": [
    "my_dict['key1']"
   ]
  },
  {
   "cell_type": "code",
   "execution_count": 79,
   "id": "01112743-8fb9-419f-b8fa-d6241cc2f77d",
   "metadata": {},
   "outputs": [],
   "source": [
    "my_dict['key1']=my_dict['key1']+123"
   ]
  },
  {
   "cell_type": "code",
   "execution_count": 80,
   "id": "e28e31de-7f48-4bec-8454-ec858feb19a4",
   "metadata": {},
   "outputs": [
    {
     "data": {
      "text/plain": [
       "{'key1': 369, 'key2': [1, 2, 3], 'key3': ['edu', 'net', 'foundation']}"
      ]
     },
     "execution_count": 80,
     "metadata": {},
     "output_type": "execute_result"
    }
   ],
   "source": [
    "my_dict\n"
   ]
  },
  {
   "cell_type": "code",
   "execution_count": 83,
   "id": "3402e35e-3e11-48c8-8715-9f542ba5a158",
   "metadata": {},
   "outputs": [
    {
     "data": {
      "text/plain": [
       "(1, 2, 3, 4, 5, 'Arpita', 'Kadtane')"
      ]
     },
     "execution_count": 83,
     "metadata": {},
     "output_type": "execute_result"
    }
   ],
   "source": [
    "#cretae a tuple\n",
    "tuple=(1,2,3,4,5,'Arpita','Kadtane')\n",
    "tuple"
   ]
  },
  {
   "cell_type": "code",
   "execution_count": 87,
   "id": "0f224c7f-9d8a-4ba4-b452-b4d542669ad5",
   "metadata": {},
   "outputs": [
    {
     "data": {
      "text/plain": [
       "7"
      ]
     },
     "execution_count": 87,
     "metadata": {},
     "output_type": "execute_result"
    }
   ],
   "source": [
    "len(tuple)"
   ]
  },
  {
   "cell_type": "code",
   "execution_count": 88,
   "id": "dcaa78a3-d53f-4492-97e5-bddb73117be6",
   "metadata": {},
   "outputs": [
    {
     "data": {
      "text/plain": [
       "1"
      ]
     },
     "execution_count": 88,
     "metadata": {},
     "output_type": "execute_result"
    }
   ],
   "source": [
    "tuple[0]"
   ]
  },
  {
   "cell_type": "code",
   "execution_count": 89,
   "id": "846f51f6-3c38-4608-aaa7-bc1388b236e4",
   "metadata": {},
   "outputs": [
    {
     "data": {
      "text/plain": [
       "'Kadtane'"
      ]
     },
     "execution_count": 89,
     "metadata": {},
     "output_type": "execute_result"
    }
   ],
   "source": [
    "tuple[-1]"
   ]
  },
  {
   "cell_type": "code",
   "execution_count": 92,
   "id": "368559cb-e5c5-4f53-bc2b-0673feb61a71",
   "metadata": {},
   "outputs": [],
   "source": [
    "tuple1=('hi','arpita','here')"
   ]
  },
  {
   "cell_type": "code",
   "execution_count": 93,
   "id": "6da2c430-a1e4-400c-bbe2-8ebadc8711a2",
   "metadata": {},
   "outputs": [
    {
     "data": {
      "text/plain": [
       "'arpita'"
      ]
     },
     "execution_count": 93,
     "metadata": {},
     "output_type": "execute_result"
    }
   ],
   "source": [
    "min(tuple1)"
   ]
  },
  {
   "cell_type": "code",
   "execution_count": 94,
   "id": "74119d73-c9af-46c1-ab21-8302baaca61a",
   "metadata": {},
   "outputs": [
    {
     "data": {
      "text/plain": [
       "'hi'"
      ]
     },
     "execution_count": 94,
     "metadata": {},
     "output_type": "execute_result"
    }
   ],
   "source": [
    "max(tuple1)"
   ]
  },
  {
   "cell_type": "code",
   "execution_count": 95,
   "id": "789bc51c-ceb1-4643-bf26-67d8b93483c0",
   "metadata": {},
   "outputs": [
    {
     "data": {
      "text/plain": [
       "{1, 2, 3, 4}"
      ]
     },
     "execution_count": 95,
     "metadata": {},
     "output_type": "execute_result"
    }
   ],
   "source": [
    "{1,2,3,4}"
   ]
  },
  {
   "cell_type": "code",
   "execution_count": 96,
   "id": "85d64862-179f-4cc6-b8da-a68b7ed146ca",
   "metadata": {},
   "outputs": [
    {
     "data": {
      "text/plain": [
       "{1, 3, 4, 5, 6, 7}"
      ]
     },
     "execution_count": 96,
     "metadata": {},
     "output_type": "execute_result"
    }
   ],
   "source": [
    "{1,1,3,4,5,5,6,7,3}\n"
   ]
  },
  {
   "cell_type": "code",
   "execution_count": 98,
   "id": "f1b92bd0-57f9-4337-90af-f4f71d636f48",
   "metadata": {},
   "outputs": [
    {
     "data": {
      "text/plain": [
       "set"
      ]
     },
     "execution_count": 98,
     "metadata": {},
     "output_type": "execute_result"
    }
   ],
   "source": [
    "type({1,2,3,4})"
   ]
  },
  {
   "cell_type": "code",
   "execution_count": 99,
   "id": "c9d81ae0-78f6-45f3-a6fe-17e9a122acb5",
   "metadata": {},
   "outputs": [],
   "source": [
    "set=set()"
   ]
  },
  {
   "cell_type": "code",
   "execution_count": 101,
   "id": "9d53d825-9db7-4bcb-a52b-4ba575649ea2",
   "metadata": {},
   "outputs": [],
   "source": [
    "#add method\n",
    "set.add(9)"
   ]
  },
  {
   "cell_type": "code",
   "execution_count": 102,
   "id": "1f6c2b1f-912b-4d50-bea9-2f1fc0aeb7dc",
   "metadata": {},
   "outputs": [
    {
     "data": {
      "text/plain": [
       "{9}"
      ]
     },
     "execution_count": 102,
     "metadata": {},
     "output_type": "execute_result"
    }
   ],
   "source": [
    "set"
   ]
  },
  {
   "cell_type": "code",
   "execution_count": 103,
   "id": "34675e98-c045-4ca3-801f-2891c60b09bd",
   "metadata": {},
   "outputs": [
    {
     "data": {
      "text/plain": [
       "{0, 9}"
      ]
     },
     "execution_count": 103,
     "metadata": {},
     "output_type": "execute_result"
    }
   ],
   "source": [
    "set.add(0)\n",
    "set"
   ]
  },
  {
   "cell_type": "code",
   "execution_count": 105,
   "id": "a5d05235-bb7b-4c0a-8a22-d28c9006b5ae",
   "metadata": {},
   "outputs": [
    {
     "data": {
      "text/plain": [
       "{0, 1, 9}"
      ]
     },
     "execution_count": 105,
     "metadata": {},
     "output_type": "execute_result"
    }
   ],
   "source": [
    "set.add(1)\n",
    "set"
   ]
  },
  {
   "cell_type": "code",
   "execution_count": 106,
   "id": "3362c0ea-ca89-4ed6-a08f-26841dd5bada",
   "metadata": {},
   "outputs": [
    {
     "name": "stdout",
     "output_type": "stream",
     "text": [
      "yes it was true\n"
     ]
    }
   ],
   "source": [
    "if True:\n",
    "    print(\"yes it was true\")"
   ]
  },
  {
   "cell_type": "code",
   "execution_count": 109,
   "id": "f35ea437-f590-423b-ac77-5ff8cb8ddae5",
   "metadata": {},
   "outputs": [
    {
     "name": "stdout",
     "output_type": "stream",
     "text": [
      "I will be printed in any case where x is not true\n"
     ]
    }
   ],
   "source": [
    "x=False\n",
    "\n",
    "if x:\n",
    "    print('yes it was true.')\n",
    "else:\n",
    "    print('I will be printed in any case where {} is not true'.format('x'))"
   ]
  },
  {
   "cell_type": "code",
   "execution_count": 113,
   "id": "917c2de5-0193-4ea8-8365-d4b02db2d7a0",
   "metadata": {},
   "outputs": [
    {
     "name": "stdout",
     "output_type": "stream",
     "text": [
      "welcome to maharastra\n"
     ]
    }
   ],
   "source": [
    "loc= 'Maharastra'\n",
    "if loc=='solapur':\n",
    "    print('welcome to the maharastra')\n",
    "elif loc =='Maharastra':\n",
    "    print('welcome to maharastra')\n",
    "else:\n",
    "    print('where are you?')"
   ]
  },
  {
   "cell_type": "code",
   "execution_count": 2,
   "id": "1c27d37c-b115-4e31-86fd-28a62fe96f20",
   "metadata": {},
   "outputs": [
    {
     "name": "stdout",
     "output_type": "stream",
     "text": [
      "c is greater\n"
     ]
    }
   ],
   "source": [
    "#greatest no among three numbers\n",
    "\n",
    "a=100\n",
    "b=200\n",
    "c=300\n",
    "\n",
    "if a>b and a>c:\n",
    "    print('a is greater')\n",
    "elif b>a and b>c:\n",
    "    print('b is greater')\n",
    "else:\n",
    "    print('c is greater')"
   ]
  },
  {
   "cell_type": "markdown",
   "id": "f6870251-e8a7-4b89-9989-9c067b33591b",
   "metadata": {},
   "source": [
    "def calculate_fd_interest(amount, years=1):\n",
    "    first_limit = 10_00_000  \n",
    "    second_limit = 15_00_000 \n",
    "    remaining_limit = amount - (first_limit + second_limit)\n",
    "    \n",
    "    interest_first = first_limit * 0.10 * years  \n",
    "    interest_second = second_limit * 0.15 * years \n",
    "    interest_remaining = remaining_limit * 0.18 * years  \n",
    "    \n",
    "    total_interest = interest_first + interest_second + interest_remaining\n",
    "    \n",
    "    return total_interest\n",
    "\n",
    "# Total FD amount\n",
    "fd_amount = 65_00_000\n",
    "interest_earned = calculate_fd_interest(fd_amount, 1)  \n",
    "print(f\"Total interest earned in 1 year on ₹{fd_amount}: ₹{interest_earned}\")"
   ]
  },
  {
   "cell_type": "code",
   "execution_count": 10,
   "id": "c880b0eb-e241-4c67-a380-a5c541e9afbf",
   "metadata": {},
   "outputs": [
    {
     "name": "stdin",
     "output_type": "stream",
     "text": [
      "Enter a number:  4\n"
     ]
    },
    {
     "name": "stdout",
     "output_type": "stream",
     "text": [
      "4 is not a prime number\n"
     ]
    }
   ],
   "source": [
    "## prime number\n",
    "def is_prime(n):\n",
    "    if n < 2:\n",
    "        return False\n",
    "    for i in range(2, int(n**0.5) + 1):\n",
    "        if n % i == 0:\n",
    "            return False\n",
    "    return True\n",
    "num = int(input(\"Enter a number: \"))\n",
    "if is_prime(num):\n",
    "    print(f\"{num} is a prime number\")\n",
    "else:\n",
    "    print(f\"{num} is not a prime number\")"
   ]
  },
  {
   "cell_type": "code",
   "execution_count": 15,
   "id": "8bee8939-906d-4114-ae53-289b9d9cf8e2",
   "metadata": {},
   "outputs": [
    {
     "name": "stdin",
     "output_type": "stream",
     "text": [
      "Enter a number:  153\n"
     ]
    },
    {
     "name": "stdout",
     "output_type": "stream",
     "text": [
      "153 is an Armstrong number\n"
     ]
    }
   ],
   "source": [
    "def armstrong(n):\n",
    "    order = len(str(n))  \n",
    "    sum_digits = sum(int(digit) ** order for digit in str(n)) \n",
    "    return sum_digits == n\n",
    "\n",
    "num = int(input(\"Enter a number: \"))\n",
    "if armstrong(num):\n",
    "    print(f\"{num} is an Armstrong number\")\n",
    "else:\n",
    "    print(f\"{num} is not an Armstrong number\")\n"
   ]
  },
  {
   "cell_type": "code",
   "execution_count": 36,
   "id": "6cc5da1a-28f5-4761-bfaa-d1604421f517",
   "metadata": {},
   "outputs": [
    {
     "name": "stdin",
     "output_type": "stream",
     "text": [
      "Enter the numbers of rows 3\n"
     ]
    },
    {
     "name": "stdout",
     "output_type": "stream",
     "text": [
      "    1 \n",
      "   2 3 \n",
      "  4 5 6 \n"
     ]
    }
   ],
   "source": [
    "num= int(input(\"Enter the numbers of rows\"))\n",
    "n=1\n",
    "for i in range(0,num):\n",
    "    for k in range(0,num-i+1):\n",
    "        print(end=\" \")\n",
    "    for k in range(0,i+1):\n",
    "        print(n,end=\" \")\n",
    "        n+=1\n",
    "    print()\n"
   ]
  },
  {
   "cell_type": "code",
   "execution_count": 40,
   "id": "2941a413-fdd3-4528-81d0-80eff722fd47",
   "metadata": {},
   "outputs": [
    {
     "name": "stdin",
     "output_type": "stream",
     "text": [
      "Enter the numbers of rows 3\n"
     ]
    },
    {
     "name": "stdout",
     "output_type": "stream",
     "text": [
      "1 \n",
      "2 3 \n",
      "4 5 6 \n"
     ]
    }
   ],
   "source": [
    "num= int(input(\"Enter the numbers of rows\"))\n",
    "n=1\n",
    "for i in range(0,num):\n",
    "    for k in range(num,0-i+1):\n",
    "        print(end=\" \")\n",
    "    for k in range(0,i+1):\n",
    "        print(n,end=\" \")\n",
    "        n+=1\n",
    "    print()\n"
   ]
  },
  {
   "cell_type": "code",
   "execution_count": 50,
   "id": "5dae46a7-81e9-491a-a77b-8c3b5e29422d",
   "metadata": {},
   "outputs": [
    {
     "name": "stdout",
     "output_type": "stream",
     "text": [
      "artsaraham ,rupalos ,ygolonhceT fo etutitsnI dnahclaW\n"
     ]
    },
    {
     "data": {
      "text/plain": [
       "['Walchand', 'Institute', 'of', 'Technology,', 'solapur,', 'maharastra']"
      ]
     },
     "execution_count": 50,
     "metadata": {},
     "output_type": "execute_result"
    }
   ],
   "source": [
    "#reverse the 'Walchand Institute of Technology, solapur, maharastra' string even part of string odd part off string, split, find vowels,count no of char\n",
    "\n",
    "Str='Walchand Institute of Technology, solapur, maharastra'\n",
    "reverse=Str[::-1]\n",
    "print(reverse)\n",
    "Str.split()\n"
   ]
  },
  {
   "cell_type": "code",
   "execution_count": 52,
   "id": "863d8c2d-3d58-4dc7-8e4f-ba4dfe503b3b",
   "metadata": {},
   "outputs": [
    {
     "name": "stdout",
     "output_type": "stream",
     "text": [
      "Reversed String: artsaraham ,rupalos ,ygolonhceT fo etutitsnI dnahclaW\n",
      "Even Part Reversed: Walchand Institute of Technology, solapur, maharastra\n",
      "Odd Part Reversed: Walchand Institute of Technology, solapur, maharastra\n",
      "Split Words: ['Walchand', 'Institute', 'of', 'Technology,', 'solapur,', 'maharastra']\n",
      "Vowels in String: ['a', 'a', 'I', 'i', 'u', 'e', 'o', 'e', 'o', 'o', 'o', 'a', 'u', 'a', 'a', 'a', 'a']\n",
      "Total Number of Characters: 53\n"
     ]
    }
   ],
   "source": [
    "Str = \"Walchand Institute of Technology, solapur, maharastra\"\n",
    "reverse = Str[::-1]\n",
    "print(\"Reversed String:\", reverse)\n",
    "\n",
    "even_reverse = \"\".join([Str[i] if i % 2 != 0 else Str[i][::-1] for i in range(len(Str))])\n",
    "print(\"Even Part Reversed:\", even_reverse)\n",
    "\n",
    "odd_reverse = \"\".join([Str[i] if i % 2 == 0 else Str[i][::-1] for i in range(len(Str))])\n",
    "print(\"Odd Part Reversed:\", odd_reverse)\n",
    "\n",
    "split_words = Str.split()\n",
    "print(\"Split Words:\", split_words)\n",
    "\n",
    "vowels = \"AEIOUaeiou\"\n",
    "found_vowels = [char for char in Str if char in vowels]\n",
    "print(\"Vowels in String:\", found_vowels)\n",
    "\n",
    "char_count = len(Str)\n",
    "print(\"Total Number of Characters:\", char_count)"
   ]
  },
  {
   "cell_type": "code",
   "execution_count": 54,
   "id": "1a3ff14a-7f58-44da-8350-d28e30eb38e3",
   "metadata": {},
   "outputs": [
    {
     "name": "stdout",
     "output_type": "stream",
     "text": [
      "Reversed String: artsaraham ,rupalos ,ygolonhceT fo etutitsnI dnahclaW\n",
      "Even Part Reversed: Walchand Institute of Technology, solapur, maharastra\n",
      "Odd Part Reversed: Walchand Institute of Technology, solapur, maharastra\n",
      "Split Words: ['Walchand', 'Institute', 'of', 'Technology,', 'solapur,', 'maharastra']\n",
      "Vowels in String: ['a', 'a', 'I', 'i', 'u', 'e', 'o', 'e', 'o', 'o', 'o', 'a', 'u', 'a', 'a', 'a', 'a']\n",
      "Total Number of Characters: 53\n"
     ]
    }
   ],
   "source": [
    "Str = \"Walchand Institute of Technology, solapur, maharastra\"\n",
    "\n",
    "reverse = \"\"\n",
    "for char in Str:\n",
    "    reverse = char + reverse\n",
    "print(\"Reversed String:\", reverse)\n",
    "\n",
    "even_reverse = \"\"\n",
    "for i in range(len(Str)):\n",
    "    if i % 2 != 0:\n",
    "        even_reverse += Str[i]  \n",
    "    else:\n",
    "        even_reverse += Str[i]  \n",
    "print(\"Even Part Reversed:\", even_reverse)\n",
    "\n",
    "odd_reverse = \"\"\n",
    "for i in range(len(Str)):\n",
    "    if i % 2 == 0:\n",
    "        odd_reverse += Str[i]  \n",
    "    else:\n",
    "        odd_reverse += Str[i]  \n",
    "print(\"Odd Part Reversed:\", odd_reverse)\n",
    "\n",
    "split_words = []\n",
    "word = \"\"\n",
    "for char in Str:\n",
    "    if char != \" \":\n",
    "        word += char\n",
    "    else:\n",
    "        split_words.append(word)\n",
    "        word = \"\"\n",
    "if word:  # Append the last word\n",
    "    split_words.append(word)\n",
    "print(\"Split Words:\", split_words)\n",
    "\n",
    "vowels = \"AEIOUaeiou\"\n",
    "found_vowels = []\n",
    "for char in Str:\n",
    "    if char in vowels:\n",
    "        found_vowels.append(char)\n",
    "print(\"Vowels in String:\", found_vowels)\n",
    "\n",
    "char_count = 0\n",
    "for char in Str:\n",
    "    char_count += 1\n",
    "print(\"Total Number of Characters:\", char_count)\n"
   ]
  },
  {
   "cell_type": "code",
   "execution_count": 3,
   "id": "e911b36e-06c9-4ce6-ab15-0bb5ad36c3b6",
   "metadata": {},
   "outputs": [
    {
     "name": "stdin",
     "output_type": "stream",
     "text": [
      "Enter a number:  4\n"
     ]
    },
    {
     "name": "stdout",
     "output_type": "stream",
     "text": [
      "4 is not a prime number\n"
     ]
    }
   ],
   "source": [
    "def is_prime(n):\n",
    "    if n < 2:\n",
    "        return False  \n",
    "    \n",
    "    i = 2  \n",
    "    while i * i <= n: \n",
    "        if n % i == 0:\n",
    "            return False \n",
    "        i += 1\n",
    "    else:\n",
    "        return True\n",
    "\n",
    "text = int(input(\"Enter a number: \"))\n",
    "if is_prime(text):\n",
    "    print(f\"{text} is a prime number\")\n",
    "else:\n",
    "    print(f\"{text} is not a prime number\")"
   ]
  },
  {
   "cell_type": "code",
   "execution_count": null,
   "id": "d3a442d2-6470-45cc-adb3-e3d7c2779865",
   "metadata": {},
   "outputs": [],
   "source": [
    "#prime number using while loop and function\n",
    "def is_prime(n):\n",
    "    if n < 2:\n",
    "        return False  \n",
    "    \n",
    "    i = 2  \n",
    "    while i * i <= n: \n",
    "        if n % i == 0:\n",
    "            return False \n",
    "        i += 1\n",
    "    else:\n",
    "        return True\n",
    "\n",
    "text = int(input(\"Enter a number: \"))\n",
    "if is_prime(text):\n",
    "    print(f\"{text} is a prime number\")\n",
    "else:\n",
    "    print(f\"{text} is not a prime number\")\n",
    "    "
   ]
  },
  {
   "cell_type": "code",
   "execution_count": 5,
   "id": "70fd5545-3441-439e-9214-28500e2d2125",
   "metadata": {},
   "outputs": [
    {
     "name": "stdin",
     "output_type": "stream",
     "text": [
      "Enter a number:  453\n"
     ]
    },
    {
     "name": "stdout",
     "output_type": "stream",
     "text": [
      "453 is NOT an Armstrong number\n"
     ]
    }
   ],
   "source": [
    "#armstrong no using while loop and function\n",
    "\n",
    "def is_armstrong(n):\n",
    "    original = n \n",
    "    total = 0\n",
    "    num_digits = len(str(n))\n",
    "\n",
    "    while n > 0:\n",
    "        digit = n % 10 \n",
    "        total += digit ** num_digits \n",
    "        n //= 10\n",
    "    2\n",
    "    return total == original\n",
    "\n",
    "num = int(input(\"Enter a number: \"))\n",
    "\n",
    "if is_armstrong(num):\n",
    "    print(f\"{num} is an Armstrong number\")\n",
    "else:\n",
    "    print(f\"{num} is not an Armstrong number\")\n"
   ]
  },
  {
   "cell_type": "code",
   "execution_count": 12,
   "id": "5e573a30-4538-4ab6-a448-ed3de3bab283",
   "metadata": {},
   "outputs": [
    {
     "name": "stdin",
     "output_type": "stream",
     "text": [
      "Enter the number of terms:  8\n"
     ]
    },
    {
     "name": "stdout",
     "output_type": "stream",
     "text": [
      "Fibonacci series: 0 1 1 2 3 5 8 13 \n"
     ]
    }
   ],
   "source": [
    "#fibonacci series\n",
    "def fibonacci(n):\n",
    "    a, b = 0, 1  \n",
    "    print(\"Fibonacci series:\", end=\" \")\n",
    "\n",
    "    count = 0 \n",
    "    while count < n:\n",
    "        print(a, end=\" \")  \n",
    "        a, b = b, a + b\n",
    "        count += 1\n",
    "    print() \n",
    "\n",
    "num = int(input(\"Enter the number of terms: \"))\n",
    "\n",
    "fibonacci(num)\n"
   ]
  },
  {
   "cell_type": "code",
   "execution_count": 16,
   "id": "751b4b03-0c58-4aad-b2d3-d8dca50c1b8c",
   "metadata": {},
   "outputs": [
    {
     "name": "stdin",
     "output_type": "stream",
     "text": [
      "Enter number 3\n"
     ]
    },
    {
     "name": "stdout",
     "output_type": "stream",
     "text": [
      "number is odd\n"
     ]
    }
   ],
   "source": [
    "#even odd\n",
    "\n",
    "def evenodd(number):\n",
    "    if number%2==0:\n",
    "        print(\"number is even\")\n",
    "    else:\n",
    "        print(\"number is odd\")\n",
    "number=int (input(\"Enter number\"))\n",
    "\n",
    "evenodd(number)"
   ]
  },
  {
   "cell_type": "code",
   "execution_count": 18,
   "id": "53656fc7-357c-4d29-9836-6333e38a5a18",
   "metadata": {},
   "outputs": [
    {
     "name": "stdin",
     "output_type": "stream",
     "text": [
      "Enter the number to count up to:  5\n"
     ]
    },
    {
     "name": "stdout",
     "output_type": "stream",
     "text": [
      "1 2 3 4 5 "
     ]
    }
   ],
   "source": [
    "#count using while loop\n",
    "def count_up_to(n):\n",
    "    i = 1  \n",
    "    while i <= n:\n",
    "        print(i, end=\" \")\n",
    "        i += 1 \n",
    "num = int(input(\"Enter the number to count up to: \"))\n",
    "count_up_to(num)"
   ]
  },
  {
   "cell_type": "code",
   "execution_count": 19,
   "id": "83d46c3c-fa0a-4ebe-9b2f-8d6df27d3a0a",
   "metadata": {},
   "outputs": [
    {
     "name": "stdin",
     "output_type": "stream",
     "text": [
      "Enter a number:  123\n"
     ]
    },
    {
     "name": "stdout",
     "output_type": "stream",
     "text": [
      "Reversed number: 321\n"
     ]
    }
   ],
   "source": [
    "def reverse_number(n):\n",
    "    rev = 0\n",
    "    while n > 0:\n",
    "        digit = n % 10\n",
    "        rev = rev * 10 + digit\n",
    "        n //= 10\n",
    "    return rev\n",
    "num = int(input(\"Enter a number: \"))\n",
    "print(f\"Reversed number: {reverse_number(num)}\")\n"
   ]
  },
  {
   "cell_type": "code",
   "execution_count": 3,
   "id": "c28b2db3-7ba9-4388-b7bf-2e04730fd1d7",
   "metadata": {},
   "outputs": [
    {
     "name": "stdout",
     "output_type": "stream",
     "text": [
      "Toyoto 2020\n"
     ]
    }
   ],
   "source": [
    "class car:\n",
    "\n",
    "    def __init__(self,modelname,year):\n",
    "        self.modelname=modelname\n",
    "        self.year=year\n",
    "\n",
    "    def display(self):\n",
    "        print(self.modelname,self.year)\n",
    "\n",
    "c1=car('Toyoto',2020)\n",
    "c1.display()"
   ]
  },
  {
   "cell_type": "code",
   "execution_count": 5,
   "id": "88cde56b-e3c1-49ba-b676-8e99e94c6f74",
   "metadata": {},
   "outputs": [
    {
     "name": "stdout",
     "output_type": "stream",
     "text": [
      "splender 2000\n"
     ]
    }
   ],
   "source": [
    "class vehicle:\n",
    "\n",
    "    def __init__(self,model,year):\n",
    "        self.model=model\n",
    "        self.year=year\n",
    "\n",
    "    def display(self):\n",
    "        print(self.model,self.year)\n",
    "\n",
    "v1=vehicle('splender',2000)\n",
    "v1.display()"
   ]
  },
  {
   "cell_type": "code",
   "execution_count": 15,
   "id": "0c070065-e5e2-4ec7-b11b-6ec2895d1195",
   "metadata": {},
   "outputs": [
    {
     "name": "stdout",
     "output_type": "stream",
     "text": [
      " \"The Great Gatsby\" has been added to the library.\n",
      " \"To Kill a Mockingbird\" has been added to the library.\n",
      " \"2000\" has been added to the library.\n",
      "\n",
      "Current Books in the Library:\n",
      "1. The Great Gatsby\n",
      "2. To Kill a Mockingbird\n",
      "3. 2000\n",
      " \"2000\" has been removed from the library.\n",
      "\n",
      "Current Books in the Library:\n",
      "1. The Great Gatsby\n",
      "2. To Kill a Mockingbird\n"
     ]
    }
   ],
   "source": [
    "class Library:\n",
    "    def __init__(self):\n",
    "        self.books = [] \n",
    "\n",
    "    def add_book(self, title):\n",
    "        self.books.append(title)\n",
    "        print(f' \"{title}\" has been added to the library.')\n",
    "\n",
    "    def remove_book(self, title):\n",
    "        if title in self.books:\n",
    "            self.books.remove(title)\n",
    "            print(f' \"{title}\" has been removed from the library.')\n",
    "        else:\n",
    "            print(f' \"{title}\" is not in the library.')\n",
    "\n",
    "    def list_books(self):\n",
    "        if self.books:\n",
    "            print(\"\\nCurrent Books in the Library:\")\n",
    "            for index, book in enumerate(self.books, start=1):\n",
    "                print(f\"{index}. {book}\")\n",
    "        else:\n",
    "            print(\"The library is empty.\")\n",
    "\n",
    "library = Library()\n",
    "\n",
    "library.add_book(\"The Great Gatsby\")\n",
    "library.add_book(\"To Kill a Mockingbird\")\n",
    "library.add_book(\"2000\")\n",
    "\n",
    "library.list_books()\n",
    "\n",
    "library.remove_book(\"2000\")\n",
    "\n",
    "library.list_books()\n"
   ]
  },
  {
   "cell_type": "code",
   "execution_count": null,
   "id": "7ef53aed-b360-4bc7-9479-2dac731b544a",
   "metadata": {},
   "outputs": [],
   "source": []
  }
 ],
 "metadata": {
  "kernelspec": {
   "display_name": "Python 3 (ipykernel)",
   "language": "python",
   "name": "python3"
  },
  "language_info": {
   "codemirror_mode": {
    "name": "ipython",
    "version": 3
   },
   "file_extension": ".py",
   "mimetype": "text/x-python",
   "name": "python",
   "nbconvert_exporter": "python",
   "pygments_lexer": "ipython3",
   "version": "3.12.7"
  }
 },
 "nbformat": 4,
 "nbformat_minor": 5
}
