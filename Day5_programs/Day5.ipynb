{
 "cells": [
  {
   "cell_type": "code",
   "execution_count": null,
   "id": "ea93ddd5-992e-4fde-9c01-a51dee3a0690",
   "metadata": {},
   "outputs": [
    {
     "name": "stdin",
     "output_type": "stream",
     "text": [
      "Enter your choice 2\n",
      "Enter first number 2\n",
      "Enter second number 2\n"
     ]
    },
    {
     "name": "stdout",
     "output_type": "stream",
     "text": [
      "result,0.0\n"
     ]
    },
    {
     "name": "stdin",
     "output_type": "stream",
     "text": [
      "Enter your choice 1\n",
      "Enter first number 2\n",
      "Enter second number 2\n"
     ]
    },
    {
     "name": "stdout",
     "output_type": "stream",
     "text": [
      "result,4.0\n"
     ]
    },
    {
     "name": "stdin",
     "output_type": "stream",
     "text": [
      "Enter your choice 0\n"
     ]
    },
    {
     "name": "stdout",
     "output_type": "stream",
     "text": [
      "wrong choice\n"
     ]
    },
    {
     "name": "stdin",
     "output_type": "stream",
     "text": [
      "Enter your choice 7\n"
     ]
    },
    {
     "name": "stdout",
     "output_type": "stream",
     "text": [
      "wrong choice\n"
     ]
    }
   ],
   "source": [
    "#perform arithmetic operations using function by giving 5 choices to the user\n",
    "def add(a,b):\n",
    "    return a+b\n",
    "def sub(a,b):\n",
    "    return a-b\n",
    "def mul(a,b):\n",
    "    return a*b\n",
    "def div(a,b):\n",
    "    return a/b\n",
    "def mod(a,b):\n",
    "    return a%b\n",
    "def main():\n",
    "    while True:\n",
    "        ch=input(\"Enter your choice\")\n",
    "        if ch in('1','2','3','4','5'):\n",
    "            num1=float(input(\"Enter first number\"))\n",
    "            num2=float(input(\"Enter second number\"))\n",
    "            operations= {\n",
    "            '1':add,\n",
    "            '2':sub,\n",
    "            '3':mul,\n",
    "            '4':div,\n",
    "            '5':mod\n",
    "            }\n",
    "            results=operations[ch](num1,num2)\n",
    "            print(f\"result{results}\")\n",
    "        else:\n",
    "            print(\"wrong choice\")\n",
    "\n",
    "if __name__ == \"__main__\":\n",
    "    main()\n",
    "    "
   ]
  },
  {
   "cell_type": "code",
   "execution_count": null,
   "id": "75ff16ee-1923-4dd7-95c8-cd984c96ac98",
   "metadata": {},
   "outputs": [],
   "source": [
    "#take password from user with length>8<16 where find alphanumeric, numbers, special characters from that.. use isnumeric,isalpha,isatnum\n",
    "\n",
    "def validate_password(password):\n",
    "    if not (8 < len(password) < 16):\n",
    "        return \"Password length must be between 8 and 16 characters.\"\n",
    "\n",
    "    has_alpha = any(char.isalpha() for char in password)\n",
    "    has_numeric = any(char.isnumeric() for char in password)\n",
    "    has_special = any(not char.isalnum() for char in password) \n",
    "    if has_alpha and has_numeric and has_special:\n",
    "        return \"Password is valid.\"\n",
    "    else:\n",
    "        return \"Password must contain at least one letter, one number, and one special character.\"\n",
    "password = input(\"Enter your password: \")\n",
    "result = validate_password(password)\n",
    "print(result)\n"
   ]
  },
  {
   "cell_type": "code",
   "execution_count": 2,
   "id": "d5ffb941-2d2c-4abf-a3ac-ce663efda8c6",
   "metadata": {},
   "outputs": [],
   "source": [
    "import random"
   ]
  },
  {
   "cell_type": "code",
   "execution_count": 3,
   "id": "a00e41bc-9dde-41be-b2ef-0bfe60a72278",
   "metadata": {},
   "outputs": [
    {
     "name": "stdout",
     "output_type": "stream",
     "text": [
      "You have 7 chances to guess it right!!!\n",
      "Let'ssss goooo\n"
     ]
    },
    {
     "name": "stdin",
     "output_type": "stream",
     "text": [
      "Enter your guess: 2\n"
     ]
    },
    {
     "name": "stdout",
     "output_type": "stream",
     "text": [
      "Nope!! Your guess is low!!!\n"
     ]
    },
    {
     "name": "stdin",
     "output_type": "stream",
     "text": [
      "Enter your guess: 3\n"
     ]
    },
    {
     "name": "stdout",
     "output_type": "stream",
     "text": [
      "Nope!! Your guess is low!!!\n"
     ]
    },
    {
     "name": "stdin",
     "output_type": "stream",
     "text": [
      "Enter your guess: 4\n"
     ]
    },
    {
     "name": "stdout",
     "output_type": "stream",
     "text": [
      "Nope!! Your guess is low!!!\n"
     ]
    },
    {
     "name": "stdin",
     "output_type": "stream",
     "text": [
      "Enter your guess: 2\n"
     ]
    },
    {
     "name": "stdout",
     "output_type": "stream",
     "text": [
      "Nope!! Your guess is low!!!\n"
     ]
    },
    {
     "name": "stdin",
     "output_type": "stream",
     "text": [
      "Enter your guess: 0\n"
     ]
    },
    {
     "name": "stdout",
     "output_type": "stream",
     "text": [
      "Nope!! Your guess is low!!!\n"
     ]
    },
    {
     "name": "stdin",
     "output_type": "stream",
     "text": [
      "Enter your guess: stop\n"
     ]
    },
    {
     "ename": "ValueError",
     "evalue": "invalid literal for int() with base 10: 'stop'",
     "output_type": "error",
     "traceback": [
      "\u001b[1;31m---------------------------------------------------------------------------\u001b[0m",
      "\u001b[1;31mValueError\u001b[0m                                Traceback (most recent call last)",
      "Cell \u001b[1;32mIn[3], line 28\u001b[0m\n\u001b[0;32m     26\u001b[0m \u001b[38;5;28mprint\u001b[39m(\u001b[38;5;124m\"\u001b[39m\u001b[38;5;124mYou have 7 chances to guess it right!!!\u001b[39m\u001b[38;5;124m\"\u001b[39m)\n\u001b[0;32m     27\u001b[0m \u001b[38;5;28mprint\u001b[39m(\u001b[38;5;124m\"\u001b[39m\u001b[38;5;124mLet\u001b[39m\u001b[38;5;124m'\u001b[39m\u001b[38;5;124mssss goooo\u001b[39m\u001b[38;5;124m\"\u001b[39m)\n\u001b[1;32m---> 28\u001b[0m play_game(num)\n",
      "Cell \u001b[1;32mIn[3], line 18\u001b[0m, in \u001b[0;36mplay_game\u001b[1;34m(num)\u001b[0m\n\u001b[0;32m     16\u001b[0m count \u001b[38;5;241m=\u001b[39m \u001b[38;5;241m1\u001b[39m\n\u001b[0;32m     17\u001b[0m \u001b[38;5;28;01mwhile\u001b[39;00m(count \u001b[38;5;241m<\u001b[39m\u001b[38;5;241m=\u001b[39m \u001b[38;5;241m7\u001b[39m):\n\u001b[1;32m---> 18\u001b[0m     guess \u001b[38;5;241m=\u001b[39m \u001b[38;5;28mint\u001b[39m(\u001b[38;5;28minput\u001b[39m(\u001b[38;5;124m\"\u001b[39m\u001b[38;5;124mEnter your guess:\u001b[39m\u001b[38;5;124m\"\u001b[39m))\n\u001b[0;32m     19\u001b[0m     \u001b[38;5;28;01mif\u001b[39;00m check_guess(num, guess):\n\u001b[0;32m     20\u001b[0m         \u001b[38;5;28mprint\u001b[39m(\u001b[38;5;124m\"\u001b[39m\u001b[38;5;124mGood Job!!\u001b[39m\u001b[38;5;124m\"\u001b[39m)\n",
      "\u001b[1;31mValueError\u001b[0m: invalid literal for int() with base 10: 'stop'"
     ]
    }
   ],
   "source": [
    "def generate_number():\n",
    "    num = int(random.random() * 100)\n",
    "    return num\n",
    "\n",
    "def check_guess(num, guess):\n",
    "    if(num == guess):\n",
    "        print(\"Yesss!! You Guessed it Rightt!!!\")\n",
    "        return True\n",
    "    elif guess > num:\n",
    "        print(\"Nope!! Your guess is high!!!\")\n",
    "    else:\n",
    "        print(\"Nope!! Your guess is low!!!\")\n",
    "    return False\n",
    "\n",
    "def play_game(num):\n",
    "    count = 1\n",
    "    while(count <= 7):\n",
    "        guess = int(input(\"Enter your guess:\"))\n",
    "        if check_guess(num, guess):\n",
    "            print(\"Good Job!!\")\n",
    "            return\n",
    "        count += 1\n",
    "    print(\"Oopss! You're out of count!!!\")\n",
    "\n",
    "num = generate_number()\n",
    "print(\"You have 7 chances to guess it right!!!\")\n",
    "print(\"Let'ssss goooo\")\n",
    "play_game(num)"
   ]
  },
  {
   "cell_type": "code",
   "execution_count": 7,
   "id": "b7fcbf43-fe66-4d35-aa58-894f34dbf8a3",
   "metadata": {},
   "outputs": [
    {
     "name": "stdin",
     "output_type": "stream",
     "text": [
      "Enter elements separated by spaces:  1 2 3 4 3 2 4 5 6 6 8 9 \n"
     ]
    },
    {
     "name": "stdout",
     "output_type": "stream",
     "text": [
      "List after removing duplicates: ['1', '2', '3', '4', '5', '6', '8', '9']\n"
     ]
    }
   ],
   "source": [
    "#take list from user and remove duplicates from list while printing\n",
    "\n",
    "user_input = input(\"Enter elements separated by spaces: \")\n",
    "user_list = user_input.split()  \n",
    "unique_list = list(dict.fromkeys(user_list))\n",
    "print(\"List after removing duplicates:\", unique_list)"
   ]
  },
  {
   "cell_type": "code",
   "execution_count": 14,
   "id": "7e4eb2d0-ed83-4b2b-bef3-ece7caa7a30b",
   "metadata": {},
   "outputs": [
    {
     "name": "stdin",
     "output_type": "stream",
     "text": [
      "Enter a string:  arpita\n",
      "Enter the character to count:  a\n"
     ]
    },
    {
     "name": "stdout",
     "output_type": "stream",
     "text": [
      "The character 'a' appears 2 times in the string.\n"
     ]
    }
   ],
   "source": [
    "#Write a program to print the no. of occurences of a given character in a given string (without using count method).\n",
    "\n",
    "string = input(\"Enter a string: \")\n",
    "char = input(\"Enter the character to count: \")\n",
    "\n",
    "char_count = 0\n",
    "\n",
    "for c in string:\n",
    "    if c == char:\n",
    "        char_count += 1\n",
    "\n",
    "print(f\"The character '{char}' appears {char_count} times in the string.\")    "
   ]
  },
  {
   "cell_type": "code",
   "execution_count": 17,
   "id": "a7fe8253-ba31-4741-8a78-279a425a8177",
   "metadata": {},
   "outputs": [
    {
     "name": "stdin",
     "output_type": "stream",
     "text": [
      "Enter the number 10\n"
     ]
    },
    {
     "name": "stdout",
     "output_type": "stream",
     "text": [
      "Buzz\n"
     ]
    }
   ],
   "source": [
    "#write a fizzbuzz program.\n",
    "# hint - if the number is divisible to 3 print 'Fizz', if divisible by 5 means print 'Buzz'\n",
    "# if divisible by both 3 and 5 means print 'FizzBuzz'\n",
    "\n",
    "number=int(input(\"Enter the number\"))\n",
    "if(number%3==0):\n",
    "    print(\"Fizz\")\n",
    "elif(number%5==0):\n",
    "    print(\"Buzz\")\n",
    "else:\n",
    "    print(\"FizzBuzz\")\n",
    "\n"
   ]
  },
  {
   "cell_type": "code",
   "execution_count": 18,
   "id": "436dcd57-6e16-488a-867f-92e9d22cfcdc",
   "metadata": {},
   "outputs": [],
   "source": [
    "import random"
   ]
  },
  {
   "cell_type": "code",
   "execution_count": 21,
   "id": "d8252c71-61fa-409c-a768-a8e260468d20",
   "metadata": {},
   "outputs": [],
   "source": [
    "import string"
   ]
  },
  {
   "cell_type": "code",
   "execution_count": 26,
   "id": "1269f987-70f7-401a-8bf5-339463eaedcb",
   "metadata": {},
   "outputs": [
    {
     "name": "stdin",
     "output_type": "stream",
     "text": [
      "Enter the desired password length (min 8):  10\n"
     ]
    },
    {
     "name": "stdout",
     "output_type": "stream",
     "text": [
      "Generated Password: V(b3bnSRo&\n"
     ]
    }
   ],
   "source": [
    "#give length of the password as input from the user and create a random password generator program which contain alphabet, number and special characters.\n",
    "\n",
    "def generate_password(length):\n",
    "    if length < 8:\n",
    "        return \"Password length should be at least 8 characters.\"\n",
    "    letters = string.ascii_letters  \n",
    "    digits = string.digits  \n",
    "    special_chars = string.punctuation  \n",
    "    password = [\n",
    "        random.choice(letters),\n",
    "        random.choice(digits),\n",
    "        random.choice(special_chars)\n",
    "    ]\n",
    "    \n",
    "    all_chars = letters + digits + special_chars\n",
    "    password += random.choices(all_chars, k=length - 3)\n",
    "    random.shuffle(password)\n",
    "    return \"\".join(password)\n",
    "length = int(input(\"Enter the desired password length (min 8): \"))\n",
    "print(\"Generated Password:\", generate_password(length))"
   ]
  },
  {
   "cell_type": "code",
   "execution_count": null,
   "id": "5ac48920-84e4-42d8-b4e0-fb3cce987f12",
   "metadata": {},
   "outputs": [],
   "source": []
  }
 ],
 "metadata": {
  "kernelspec": {
   "display_name": "Python 3 (ipykernel)",
   "language": "python",
   "name": "python3"
  },
  "language_info": {
   "codemirror_mode": {
    "name": "ipython",
    "version": 3
   },
   "file_extension": ".py",
   "mimetype": "text/x-python",
   "name": "python",
   "nbconvert_exporter": "python",
   "pygments_lexer": "ipython3",
   "version": "3.12.7"
  }
 },
 "nbformat": 4,
 "nbformat_minor": 5
}
