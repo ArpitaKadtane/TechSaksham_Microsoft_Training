{
 "cells": [
  {
   "cell_type": "code",
   "execution_count": 3,
   "id": "4849ae82-3a6b-417e-b904-18d90b04b632",
   "metadata": {},
   "outputs": [
    {
     "name": "stdout",
     "output_type": "stream",
     "text": [
      "Requirement already satisfied: mysql-connector.python in d:\\anakonda\\lib\\site-packages (9.2.0)\n",
      "Note: you may need to restart the kernel to use updated packages.\n"
     ]
    }
   ],
   "source": [
    "pip install mysql-connector.python"
   ]
  },
  {
   "cell_type": "code",
   "execution_count": 4,
   "id": "7808d592-ea71-49fb-84c4-db6875d97755",
   "metadata": {},
   "outputs": [
    {
     "name": "stdout",
     "output_type": "stream",
     "text": [
      "Requirement already satisfied: mysql-connector.python in d:\\anakonda\\lib\\site-packages (9.2.0)\n",
      "Note: you may need to restart the kernel to use updated packages.\n"
     ]
    }
   ],
   "source": [
    "pip install mysql-connector.python"
   ]
  },
  {
   "cell_type": "code",
   "execution_count": 42,
   "id": "ec15bb83-9bae-4721-8b09-dfb95043ea5a",
   "metadata": {},
   "outputs": [
    {
     "name": "stdout",
     "output_type": "stream",
     "text": [
      "('Power of subconcious Mind',)\n",
      "('Attitude is Everything',)\n",
      "('Rich dad poor dad',)\n",
      "('Power of subconcious Mind',)\n",
      "('Attitude is Everything',)\n",
      "('Rich dad poor dad',)\n"
     ]
    }
   ],
   "source": [
    "import mysql.connector\n",
    "db=mysql.connector.connect(\n",
    "    host=\"localhost\",\n",
    "    user=\"root\",\n",
    "    password=\"root\",\n",
    "    database=\"booklist\"\n",
    ")\n",
    "dbcursor=db.cursor()\n",
    "dbcursor.execute(\"select book from bookdetail\")\n",
    "result=dbcursor.fetchall()\n",
    "for i in result:\n",
    "    print(i)"
   ]
  },
  {
   "cell_type": "code",
   "execution_count": 43,
   "id": "92b3be05-d68e-4500-8579-756f9fd2f1af",
   "metadata": {},
   "outputs": [],
   "source": [
    "dbcursor=db.cursor()\n",
    "dbcursor.execute(\"select book from bookdetail\")\n",
    "result=dbcursor.fetchall()"
   ]
  },
  {
   "cell_type": "code",
   "execution_count": 44,
   "id": "5ba7f0ea-788b-433e-8da9-73489b6074e9",
   "metadata": {},
   "outputs": [],
   "source": [
    "dbcursor.execute(\"show databases\")"
   ]
  },
  {
   "cell_type": "code",
   "execution_count": 45,
   "id": "0192c406-6660-41d8-84e8-7fc6fa8f1ea1",
   "metadata": {},
   "outputs": [
    {
     "name": "stdout",
     "output_type": "stream",
     "text": [
      "('a66',)\n",
      "('alloc8_ajp_project',)\n",
      "('assignment_schema',)\n",
      "('booklist',)\n",
      "('countries',)\n",
      "('customer_order',)\n",
      "('customer_orders',)\n",
      "('dbe',)\n",
      "('employee',)\n",
      "('hr',)\n",
      "('information_schema',)\n",
      "('mysql',)\n",
      "('performance_schema',)\n",
      "('sakila',)\n",
      "('sys',)\n",
      "('temp_schema',)\n",
      "('world',)\n"
     ]
    }
   ],
   "source": [
    "for i in dbcursor:\n",
    "    print(i)\n",
    "    "
   ]
  },
  {
   "cell_type": "code",
   "execution_count": 46,
   "id": "39e18551-69ba-45d1-8afb-ff610c6d9ad8",
   "metadata": {},
   "outputs": [
    {
     "name": "stdout",
     "output_type": "stream",
     "text": [
      "('bookdetail',)\n"
     ]
    }
   ],
   "source": [
    "dbcursor.execute(\"USE booklist\")  \n",
    "dbcursor.execute(\"\"\"\n",
    "    CREATE TABLE IF NOT EXISTS bookdetail (\n",
    "        Rating INT(20),\n",
    "        Book VARCHAR(40),\n",
    "        Price DECIMAL(16,2)\n",
    "    )\n",
    "\"\"\")\n",
    "dbcursor.execute(\"SHOW TABLES\")\n",
    "\n",
    "for i in dbcursor:\n",
    "    print(i)"
   ]
  },
  {
   "cell_type": "code",
   "execution_count": 47,
   "id": "cf73618d-c739-4b28-b5d4-1d13c6e32bf8",
   "metadata": {},
   "outputs": [],
   "source": [
    "form=\"Insert into bookdetail(Rating,Book,Price) values(%s,%s,%s)\"\n",
    "\n",
    "data=[(4,\"Power of subconcious Mind\",99),\n",
    "      (3,\"Attitude is Everything\",50),\n",
    "      (5,\"Rich dad poor dad\",149),]\n",
    "dbcursor.executemany(form,data)\n",
    "db.commit()\n"
   ]
  },
  {
   "cell_type": "code",
   "execution_count": 3,
   "id": "69d424df-24f7-4a30-a15c-72126ec2114f",
   "metadata": {},
   "outputs": [],
   "source": [
    "import numpy as np"
   ]
  },
  {
   "cell_type": "code",
   "execution_count": null,
   "id": "46fa31aa-d620-405a-bafc-55fbcde2fe4a",
   "metadata": {},
   "outputs": [],
   "source": [
    "c= np.aarange(10)\n",
    "d= np.linespace(1,5,6)\n",
    "print(c)\n",
    "print(d)"
   ]
  },
  {
   "cell_type": "code",
   "execution_count": 6,
   "id": "65e5c397-d971-4040-a835-0a6d51bdf6ac",
   "metadata": {},
   "outputs": [
    {
     "name": "stdout",
     "output_type": "stream",
     "text": [
      "1\n",
      "8\n",
      "int64\n",
      "32\n",
      "4\n",
      "(2, 4)\n"
     ]
    }
   ],
   "source": [
    "a=np.array([7,9,9,2])\n",
    "b=np.array([(7,9,9,2),(16,11,9,6)])\n",
    "print(a.ndim)\n",
    "print(a.itemsize)\n",
    "print(a.dtype)\n",
    "print(a.size*a.itemsize)\n",
    "print(a.size)\n",
    "print(b.shape)"
   ]
  },
  {
   "cell_type": "code",
   "execution_count": 7,
   "id": "6e894198-cbd5-4523-96a1-365140290f25",
   "metadata": {},
   "outputs": [
    {
     "name": "stdout",
     "output_type": "stream",
     "text": [
      "[[ 7  9  9  2]\n",
      " [16 11  9  6]]\n",
      "[[ 7  9]\n",
      " [ 9  2]\n",
      " [16 11]\n",
      " [ 9  6]]\n"
     ]
    }
   ],
   "source": [
    "b=np.array([(7,9,9,2),(16,11,9,6)])\n",
    "print(b)\n",
    "b=b.reshape(4,2)\n",
    "print(b)"
   ]
  },
  {
   "cell_type": "code",
   "execution_count": 11,
   "id": "db2bfb9c-c916-4920-8f3d-6378f1e3bf40",
   "metadata": {},
   "outputs": [
    {
     "name": "stdout",
     "output_type": "stream",
     "text": [
      "9\n",
      "[9 9]\n"
     ]
    }
   ],
   "source": [
    "b=np.array([(7,9,9,2),(16,11,9,6)])\n",
    "print(b[0,2]) #slicing the element from certain row and certain row column\n",
    "print(b[0:,2]) #slicing element from all rows and certain column"
   ]
  },
  {
   "cell_type": "code",
   "execution_count": 21,
   "id": "6148c5fb-d9ef-41ac-912d-c9ae3aace7f9",
   "metadata": {},
   "outputs": [
    {
     "name": "stdout",
     "output_type": "stream",
     "text": [
      "2\n",
      "96\n",
      "150\n"
     ]
    }
   ],
   "source": [
    "e=np.array([7,9,9,2,16,11,96])\n",
    "print(e.min()) # minimum values in array \n",
    "print(e.max()) #maximum value in array\n",
    "print(e.sum()) #sum of array"
   ]
  },
  {
   "cell_type": "code",
   "execution_count": 22,
   "id": "cbfab8d5-1910-47ba-a189-f7f25b1d72ac",
   "metadata": {},
   "outputs": [
    {
     "name": "stdout",
     "output_type": "stream",
     "text": [
      "[23 20 18  8]\n",
      "[27 42]\n",
      "[2.64575131 3.         3.         1.41421356]\n",
      "2.8613807855648994\n",
      "[1.09663316e+03 8.10308393e+03 8.10308393e+03 7.38905610e+00]\n",
      "[1.94591015 2.19722458 2.19722458 0.69314718]\n",
      "[0.84509804 0.95424251 0.95424251 0.30103   ]\n"
     ]
    }
   ],
   "source": [
    "a-np.array([7,9,9,2])\n",
    "b=np.array([(7,9,9,2),(16,11,9,6)])\n",
    "print(b.sum(axis=0))\n",
    "print(b.sum(axis=1))\n",
    "print(np.sqrt(a))\n",
    "print(np.std(a))\n",
    "print(np.exp(a))\n",
    "print(np.log(a))\n",
    "print(np.log10(a))"
   ]
  },
  {
   "cell_type": "code",
   "execution_count": 23,
   "id": "aa02139c-b2d0-4f6f-a4a0-ba5935d0754c",
   "metadata": {},
   "outputs": [
    {
     "name": "stdout",
     "output_type": "stream",
     "text": [
      "[[ 7  9  9  2]\n",
      " [16 11  9  6]\n",
      " [ 1  2  3  4]\n",
      " [ 5 46  7  8]]\n",
      "[[ 7  9  9  2  1  2  3  4]\n",
      " [16 11  9  6  5 46  7  8]]\n",
      "[ 7  9  9  2 16 11  9  6]\n"
     ]
    }
   ],
   "source": [
    "b=np.array([(7,9,9,2),(16,11,9,6)])\n",
    "f=np.array([(1,2,3,4),(5,46,7,8)])\n",
    "print(np.vstack((b,f)))  #vertical stack\n",
    "print(np.hstack((b,f))) #horizontal stack\n",
    "print(b.ravel())   #merging as single"
   ]
  },
  {
   "cell_type": "code",
   "execution_count": 24,
   "id": "dadd5ae5-ddfc-41ac-a48a-688a09223a42",
   "metadata": {},
   "outputs": [
    {
     "name": "stdout",
     "output_type": "stream",
     "text": [
      "[[[ 1  2  3]\n",
      "  [ 4  5  6]]\n",
      "\n",
      " [[-1 -2 -3]\n",
      "  [-4 -5 -6]]]\n"
     ]
    }
   ],
   "source": [
    "threeDArray=np.array([\n",
    "    [[1,2,3],[4,5,6]],\n",
    "    [[-1,-2,-3],[-4,-5,-6]]\n",
    "])\n",
    "print(threeDArray)"
   ]
  },
  {
   "cell_type": "code",
   "execution_count": 26,
   "id": "bb8ba4fa-bf60-4ad9-98d4-1b311352ab39",
   "metadata": {},
   "outputs": [
    {
     "name": "stdout",
     "output_type": "stream",
     "text": [
      "8\n",
      "12\n"
     ]
    }
   ],
   "source": [
    "print(threeDArray.itemsize)\n",
    "print(threeDArray.size)"
   ]
  },
  {
   "cell_type": "code",
   "execution_count": 27,
   "id": "2a92998c-8950-4ad9-8a25-7f4d67fdafea",
   "metadata": {},
   "outputs": [],
   "source": [
    "nested_list=[[1,2,3],[4,5,6]]"
   ]
  },
  {
   "cell_type": "code",
   "execution_count": 29,
   "id": "ca37c54a-1aad-4799-8097-aea274228fc4",
   "metadata": {},
   "outputs": [
    {
     "name": "stdout",
     "output_type": "stream",
     "text": [
      "1\n",
      "2\n",
      "3\n",
      "4\n",
      "5\n",
      "6\n"
     ]
    }
   ],
   "source": [
    "for i in nested_list:\n",
    "    for j in i:\n",
    "        print(j)"
   ]
  },
  {
   "cell_type": "code",
   "execution_count": 30,
   "id": "fedf61e9-cae7-4696-8244-5dd621804664",
   "metadata": {},
   "outputs": [
    {
     "name": "stdout",
     "output_type": "stream",
     "text": [
      "1\n",
      "2\n",
      "3\n",
      "4\n",
      "5\n",
      "6\n",
      "-1\n",
      "-2\n",
      "-3\n",
      "-4\n",
      "-5\n",
      "-6\n"
     ]
    }
   ],
   "source": [
    "for i in threeDArray.flatten():\n",
    "    print(i)"
   ]
  },
  {
   "cell_type": "code",
   "execution_count": 31,
   "id": "4b1a1908-340f-449f-9c43-6b90335c961a",
   "metadata": {},
   "outputs": [
    {
     "name": "stdout",
     "output_type": "stream",
     "text": [
      "[[[ 1  2  3]\n",
      "  [ 4  5  6]]\n",
      "\n",
      " [[-1 -2 -3]\n",
      "  [-4 -5 -6]]]\n",
      "[[[ 1  2  3]\n",
      "  [ 4  5  6]]\n",
      "\n",
      " [[-1 -2 -3]\n",
      "  [-4 -5 -6]]]\n"
     ]
    }
   ],
   "source": [
    "threeDArray.flatten()\n",
    "print(threeDArray)\n",
    "threeDArray.ravel()\n",
    "print(threeDArray)"
   ]
  },
  {
   "cell_type": "code",
   "execution_count": 32,
   "id": "47789fa9-da57-4ff0-928c-ea144a9fb542",
   "metadata": {},
   "outputs": [
    {
     "name": "stdout",
     "output_type": "stream",
     "text": [
      "[0. 0. 0. 0. 0.]\n"
     ]
    }
   ],
   "source": [
    "zeros=np.zeros(5)\n",
    "print(zeros)"
   ]
  },
  {
   "cell_type": "code",
   "execution_count": 35,
   "id": "8d1e4d98-0e01-4a7d-b5cf-acfbcb487015",
   "metadata": {},
   "outputs": [
    {
     "name": "stdout",
     "output_type": "stream",
     "text": [
      "[1. 1. 1. 1. 1. 1. 1. 1.]\n"
     ]
    }
   ],
   "source": [
    "ones=np.ones(8)\n",
    "print(ones)"
   ]
  },
  {
   "cell_type": "code",
   "execution_count": 36,
   "id": "feb5794c-0768-4b83-be30-77d8227eeaf5",
   "metadata": {},
   "outputs": [
    {
     "name": "stdout",
     "output_type": "stream",
     "text": [
      "[1 1 1 1 1 1 1 1]\n"
     ]
    }
   ],
   "source": [
    "ones=ones.astype(int)\n",
    "print(ones)"
   ]
  },
  {
   "cell_type": "code",
   "execution_count": 41,
   "id": "d2d7718f-1c8a-421c-a060-7efcf73f6398",
   "metadata": {},
   "outputs": [],
   "source": [
    "ranges=np.arange(5,6,9.8)"
   ]
  },
  {
   "cell_type": "code",
   "execution_count": 42,
   "id": "a081abc6-3cd0-4a18-ab6d-ab8beb33b85f",
   "metadata": {},
   "outputs": [
    {
     "name": "stdout",
     "output_type": "stream",
     "text": [
      "[5.]\n"
     ]
    }
   ],
   "source": [
    "print(ranges)"
   ]
  },
  {
   "cell_type": "code",
   "execution_count": 48,
   "id": "00583844-3fdc-4506-80f9-831a1c89b396",
   "metadata": {},
   "outputs": [
    {
     "name": "stdout",
     "output_type": "stream",
     "text": [
      "[3.         3.33333333 3.66666667 4.         4.33333333 4.66666667\n",
      " 5.         5.33333333 5.66666667 6.        ]\n"
     ]
    }
   ],
   "source": [
    "linspace=np.linspace(3,6,10)\n",
    "print(linspace)"
   ]
  },
  {
   "cell_type": "code",
   "execution_count": 50,
   "id": "538be29c-9680-4a3d-9e2b-d1bc65ebf2cc",
   "metadata": {},
   "outputs": [
    {
     "name": "stdout",
     "output_type": "stream",
     "text": [
      "[[76 34 89]\n",
      " [23 34 45]]\n"
     ]
    }
   ],
   "source": [
    "matrix=np.array([[76,34,89],[23,34,45]])\n",
    "print(matrix)"
   ]
  },
  {
   "cell_type": "code",
   "execution_count": 53,
   "id": "59ac8de3-3dfc-418f-843a-561cdbc79efe",
   "metadata": {},
   "outputs": [
    {
     "name": "stdout",
     "output_type": "stream",
     "text": [
      "[[78 36 91]\n",
      " [25 36 47]]\n"
     ]
    }
   ],
   "source": [
    "print(matrix+2)"
   ]
  },
  {
   "cell_type": "code",
   "execution_count": 56,
   "id": "a259e9b3-d36a-454f-bbab-498ac9fcca39",
   "metadata": {},
   "outputs": [
    {
     "name": "stdout",
     "output_type": "stream",
     "text": [
      "[[76 23]\n",
      " [34 34]\n",
      " [89 45]]\n"
     ]
    }
   ],
   "source": [
    "print(matrix.T)"
   ]
  },
  {
   "cell_type": "code",
   "execution_count": 57,
   "id": "e73b6a77-8bd3-471c-a6a6-b197fd86e2cc",
   "metadata": {},
   "outputs": [
    {
     "name": "stdout",
     "output_type": "stream",
     "text": [
      "[23 34 45]\n"
     ]
    }
   ],
   "source": [
    " print(matrix[1,])"
   ]
  },
  {
   "cell_type": "code",
   "execution_count": 58,
   "id": "1dd09ca0-586f-48cc-a6ac-f44f76cf2c7f",
   "metadata": {},
   "outputs": [
    {
     "name": "stdout",
     "output_type": "stream",
     "text": [
      "1-dimension\n",
      "[5 5 5 5 5 5 5 5 5 5]\n",
      "2-dimension\n",
      "[[10 10]\n",
      " [10 10]]\n",
      "3-dimension\n",
      "[[[5 5 5 5]\n",
      "  [5 5 5 5]\n",
      "  [5 5 5 5]\n",
      "  [5 5 5 5]\n",
      "  [5 5 5 5]]\n",
      "\n",
      " [[5 5 5 5]\n",
      "  [5 5 5 5]\n",
      "  [5 5 5 5]\n",
      "  [5 5 5 5]\n",
      "  [5 5 5 5]]]\n"
     ]
    }
   ],
   "source": [
    "print(\"1-dimension\")\n",
    "full=np.full(10,5)\n",
    "print(full)\n",
    "\n",
    "print(\"2-dimension\")\n",
    "full=np.full((2,2),10)\n",
    "print(full)\n",
    "print(\"3-dimension\")\n",
    "full=np.full((2,5,4),5)\n",
    "print(full)"
   ]
  },
  {
   "cell_type": "code",
   "execution_count": 59,
   "id": "ec108558-fa94-429a-98bb-ed0cc9991315",
   "metadata": {},
   "outputs": [],
   "source": [
    "pythonlist1=[[76,34,89],[23,34,45]]\n",
    "pythonlist2=[[76,34,89],[23,34,45]]"
   ]
  },
  {
   "cell_type": "code",
   "execution_count": 60,
   "id": "8e190970-b41b-433d-9344-fe995dd8957e",
   "metadata": {},
   "outputs": [
    {
     "data": {
      "text/plain": [
       "[[76, 34, 89], [23, 34, 45], [76, 34, 89], [23, 34, 45]]"
      ]
     },
     "execution_count": 60,
     "metadata": {},
     "output_type": "execute_result"
    }
   ],
   "source": [
    "pythonlist1+pythonlist2"
   ]
  },
  {
   "cell_type": "code",
   "execution_count": 70,
   "id": "e6d95cef-2b69-4b84-9e54-bfb1b1f9a088",
   "metadata": {},
   "outputs": [],
   "source": [
    "matrix1=np.array([[1,2,3],[4,5,6]])\n",
    "matrix2=np.array([[7,8,9],[10,11,12]])\n"
   ]
  },
  {
   "cell_type": "code",
   "execution_count": 62,
   "id": "b6e5298e-fddd-4798-ad2f-be4177b889ab",
   "metadata": {},
   "outputs": [
    {
     "name": "stdout",
     "output_type": "stream",
     "text": [
      "[[-6 -6 -6]\n",
      " [-6 -6 -6]]\n"
     ]
    }
   ],
   "source": [
    "print(matrix1-matrix2)"
   ]
  },
  {
   "cell_type": "code",
   "execution_count": 74,
   "id": "fdb3c7b8-0438-4ef7-8e66-c654e637c023",
   "metadata": {},
   "outputs": [],
   "source": [
    "marks=np.array([\n",
    "       [87,90,89],[100,87,90],\n",
    "       [94,77,90],[100,86,98]\n",
    "])"
   ]
  },
  {
   "cell_type": "code",
   "execution_count": 76,
   "id": "a3ac21a0-bf6f-47e8-9017-ca2908baaf30",
   "metadata": {},
   "outputs": [
    {
     "name": "stdout",
     "output_type": "stream",
     "text": [
      "77\n",
      "100\n",
      "1088\n",
      "90.66666666666667\n",
      "6.315765107165473\n"
     ]
    }
   ],
   "source": [
    "print(marks.min())\n",
    "print(marks.max())\n",
    "print(marks.sum())\n",
    "print(marks.mean())\n",
    "print(marks.std())"
   ]
  },
  {
   "cell_type": "code",
   "execution_count": 77,
   "id": "d4a294af-680a-41d7-b7e3-b3a8b2b2c77d",
   "metadata": {},
   "outputs": [
    {
     "name": "stdout",
     "output_type": "stream",
     "text": [
      "[87 87 77 86]\n",
      "[ 90 100  94 100]\n",
      "[266 277 261 284]\n",
      "[88.66666667 92.33333333 87.         94.66666667]\n",
      "[1.24721913 5.55777733 7.25718035 6.18241233]\n"
     ]
    }
   ],
   "source": [
    "print(marks.min(axis=1))\n",
    "print(marks.max(axis=1))\n",
    "print(marks.sum(axis=1))\n",
    "print(marks.mean(axis=1))\n",
    "print(marks.std(axis=1))"
   ]
  },
  {
   "cell_type": "code",
   "execution_count": 78,
   "id": "39808fb6-b597-4f02-8bbe-d67cf27ef521",
   "metadata": {},
   "outputs": [
    {
     "name": "stdout",
     "output_type": "stream",
     "text": [
      "[87 77 89]\n",
      "[100  90  98]\n",
      "[381 340 367]\n",
      "[95.25 85.   91.75]\n",
      "[5.35607132 4.84767986 3.63145976]\n"
     ]
    }
   ],
   "source": [
    "print(marks.min(axis=0))\n",
    "print(marks.max(axis=0))\n",
    "print(marks.sum(axis=0))\n",
    "print(marks.mean(axis=0))\n",
    "print(marks.std(axis=0))"
   ]
  },
  {
   "cell_type": "code",
   "execution_count": 83,
   "id": "6889c254-87de-473d-b0c0-e43dc050b350",
   "metadata": {},
   "outputs": [],
   "source": [
    "new_array=np.array([1,2,3])"
   ]
  },
  {
   "cell_type": "code",
   "execution_count": null,
   "id": "8976d281-a4dc-4d5a-9486-ec97c4a7f07c",
   "metadata": {},
   "outputs": [],
   "source": []
  }
 ],
 "metadata": {
  "kernelspec": {
   "display_name": "Python 3 (ipykernel)",
   "language": "python",
   "name": "python3"
  },
  "language_info": {
   "codemirror_mode": {
    "name": "ipython",
    "version": 3
   },
   "file_extension": ".py",
   "mimetype": "text/x-python",
   "name": "python",
   "nbconvert_exporter": "python",
   "pygments_lexer": "ipython3",
   "version": "3.12.7"
  }
 },
 "nbformat": 4,
 "nbformat_minor": 5
}
